{
 "cells": [
  {
   "cell_type": "markdown",
   "metadata": {},
   "source": [
    "# Triton Tutorial"
   ]
  },
  {
   "cell_type": "markdown",
   "metadata": {},
   "source": [
    "This chapter serves as an introduction to getting started with Triton.  "
   ]
  },
  {
   "cell_type": "markdown",
   "metadata": {},
   "source": [
    "## Official tutorials"
   ]
  },
  {
   "cell_type": "markdown",
   "metadata": {},
   "source": []
  },
  {
   "cell_type": "markdown",
   "metadata": {},
   "source": [
    "### Server\n",
    "\n",
    "- [Quickstart Tutorial](https://github.com/triton-inference-server/server/blob/main/docs/getting_started/quickstart.md)\n",
    "- [Conceptual Guide](https://github.com/triton-inference-server/tutorials/blob/main/Conceptual_Guide/Part_1-model_deployment/README.md)\n",
    "- [Quick Deployment](https://github.com/triton-inference-server/tutorials?tab=readme-ov-file#quick-deploy)\n"
   ]
  },
  {
   "cell_type": "markdown",
   "metadata": {},
   "source": [
    "### Backend Development\n",
    "\n",
    "- [Triton Example Backends](https://github.com/triton-inference-server/backend/tree/main/examples)    \n",
    "   Three examples backends are provided to demonstrate how to develop a custom backend for Triton. \n",
    "   - Minimal Triton Backend\n",
    "   - Recommended Triton Backend\n",
    "   - BLS Triton Backend\n",
    "\n",
    "   A straightforward exercise to get started is to write a simple backend that receives variable-length input and returns the same input as output."
   ]
  },
  {
   "cell_type": "markdown",
   "metadata": {},
   "source": [
    "## References \n",
    "\n",
    "[NVIDIA Triton Inference Server](https://docs.nvidia.com/deeplearning/triton-inference-server/user-guide/docs/index.html)"
   ]
  },
  {
   "cell_type": "markdown",
   "metadata": {},
   "source": [
    "## Upcoming tutorial \n",
    "[Inner Detector Tracking Workshop 2024](https://indico.cern.ch/event/1374927/)   \n",
    "\n",
    "[US ATLAS Summer Workshop 2024](https://indico.cern.ch/event/1348862/)"
   ]
  },
  {
   "cell_type": "code",
   "execution_count": null,
   "metadata": {
    "vscode": {
     "languageId": "plaintext"
    }
   },
   "outputs": [],
   "source": []
  },
  {
   "cell_type": "markdown",
   "metadata": {},
   "source": []
  }
 ],
 "metadata": {
  "language_info": {
   "name": "python"
  }
 },
 "nbformat": 4,
 "nbformat_minor": 2
}
